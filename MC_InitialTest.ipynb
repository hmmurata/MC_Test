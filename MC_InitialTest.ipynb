{
 "cells": [
  {
   "cell_type": "markdown",
   "metadata": {},
   "source": [
    "# Metacrystal data testing\n",
    "\n",
    "* Data to be analyzed:\n",
    "    * file name: test_100.csv\n",
    "    * file format: 5 columns x n rows         \n",
    "        * Column 1: time\n",
    "        * Column 2: channel 0 \n",
    "        * Column 3: channel 1 \n",
    "        * Column 4: channel 2 \n",
    "        * Column 5: channel 3 "
   ]
  },
  {
   "cell_type": "code",
   "execution_count": null,
   "metadata": {},
   "outputs": [],
   "source": [
    "# Import dependencies\n",
    "import numpy as np\n",
    "import pandas as pd\n",
    "import matplotlib.pyplot as plt\n",
    "plt.rcParams[\"font.family\"] = \"Times New Roman\""
   ]
  },
  {
   "cell_type": "code",
   "execution_count": null,
   "metadata": {},
   "outputs": [],
   "source": [
    "# Verify if dask exists, if not install it\n",
    "try:\n",
    "  import dask\n",
    "except:\n",
    "  %pip install dask\n",
    "  import dask"
   ]
  },
  {
   "cell_type": "code",
   "execution_count": null,
   "metadata": {},
   "outputs": [],
   "source": [
    "# This 1st try is to understanding the code with Pandas,\n",
    "# But it's interesting to change to Dask for large files and memory consumption.\n",
    "file = 'test_100.csv'\n",
    "df = pd.read_csv(file, encoding ='utf-8', sep=' ')\n",
    "content = df.values\n",
    "df.head(100000)"
   ]
  },
  {
   "cell_type": "code",
   "execution_count": null,
   "metadata": {},
   "outputs": [],
   "source": [
    "# Each column in Numpy array from Pandas data frame \n",
    "x0 = np.array(content[:,0]) # Horizontal scale -> T = 0.001E-08 (-5.000E-08 - -4.999E-08) \n",
    "y0 = np.array(content[:,1]) # Vertical - Signal 0\n",
    "y1 = np.array(content[:,2]) # Vertical - Signal 1\n",
    "y2 = np.array(content[:,3]) # Vertical - Signal 2\n",
    "y3 = np.array(content[:,4]) # Vertical - Signal 3"
   ]
  },
  {
   "cell_type": "markdown",
   "metadata": {},
   "source": [
    "## 1. Preview of all channels pulses\n",
    "\n",
    "Since the time (in $s$ units) in the first row is $-5E-08\\;s$ and the second row is $-4.999E-08\\;s$, then $dT = 0.001E-08\\;s$ or $$dT = 10\\;ps$$ \n",
    "This means that the sample rating is 100 GS/s.\n",
    "\n",
    "The number of samples in an event is 100,000. The event starts at $-5E-08\\;s$ and ends at $9.4999E-08\\;s$\n",
    "\n",
    "The total number of events is 99."
   ]
  },
  {
   "cell_type": "markdown",
   "metadata": {},
   "source": [
    "## 2. Preview of channels 0 and 1 pulses\n"
   ]
  },
  {
   "cell_type": "code",
   "execution_count": null,
   "metadata": {},
   "outputs": [],
   "source": [
    "# Plot an event for analysis\n",
    "\n",
    "#Inputs:\n",
    "evt_nb = 17 # Select the number of event (between 0 to 99)\n",
    "\n",
    "evt_smp = 100000 # Number of samples in an event\n",
    "evt_sta = evt_nb * evt_smp # Event start\n",
    "evt_end = evt_sta + evt_smp - 1 # Event end\n",
    "evt_rng = range(evt_sta, evt_end) # Event range\n",
    "\n",
    "plt.plot(x0[evt_rng], y0[evt_rng], label=\"Channel 0\") # Plot channel 0 \n",
    "plt.plot(x0[evt_rng], y1[evt_rng], label=\"Channel 1\") # Plot channel 1\n",
    "plt.xlabel('Time (s)')\n",
    "plt.ylabel('ADC counts')\n",
    "plt.title('Pulse preview')\n",
    "plt.legend()"
   ]
  },
  {
   "cell_type": "markdown",
   "metadata": {},
   "source": [
    "## 3. Preview of channels 0 and 1 leading edge pulses"
   ]
  },
  {
   "cell_type": "code",
   "execution_count": null,
   "metadata": {},
   "outputs": [],
   "source": [
    "# Plot an event for analysis\n",
    "# Zoom pulse leading edge\n",
    "\n",
    "# Inputs:\n",
    "evt_nb = 17 # Select the number of event (between 0 to 99)\n",
    "smp_le = 5000 # Select the number of samples in leading edge for preview\n",
    "\n",
    "evt_smp = 100000 # Number of samples in an event\n",
    "evt_sta = evt_nb * evt_smp # Event start\n",
    "evt_end = evt_sta + smp_le - 1 # Event end\n",
    "evt_rng = range(evt_sta, evt_end) # Event range\n",
    "\n",
    "plt.plot(x0[evt_rng], y0[evt_rng], label=\"Channel 0\") # Plot channel 0 \n",
    "plt.plot(x0[evt_rng], y1[evt_rng], label=\"Channel 1\") # Plot channel 1\n",
    "plt.xlabel('Time (s)')\n",
    "plt.ylabel('ADC counts')\n",
    "plt.title('Pulse leading edge preview')\n",
    "plt.legend()"
   ]
  },
  {
   "cell_type": "code",
   "execution_count": null,
   "metadata": {},
   "outputs": [],
   "source": [
    "# Pulse processing for each event\n",
    "# For this test, channels 1 and 3 will be used because the pulses are unipolar\n",
    "\n",
    "# Inputs:\n",
    "evt_tot = 100 # Total number of events\n",
    "bas_tot = 1000 # Total number of samples to baseline calculation\n",
    "\n",
    "evt_smp = 100000 # Number of samples in an event\n",
    "ene_y1 = np.zeros(evt_tot) # Energy for each event in channel 1\n",
    "ene_y3 = np.zeros(evt_tot) # Energy for each event in channel 3\n",
    "\n",
    "#for evt_nb in range(evt_tot):\n",
    "for evt_nb in range(0, 1):\n",
    "\n",
    "    # List of events with problems. Verify these events in item 1\n",
    "    blc_lst = [32, 34, 95] # avoid these events\n",
    "    if evt_nb in blc_lst:\n",
    "        continue\n",
    "\n",
    "    evt_sta = evt_nb * evt_smp # Event start\n",
    "    evt_end = evt_sta + evt_smp - 1 # Event end\n",
    "    evt_rng = range(evt_sta, evt_end) # Event range\n",
    "\n",
    "    # Baseline calculation - Average Moving Method\n",
    "    # In the Average Moving Method, the average is calculated from the beginning \n",
    "    # of the event to the sample referring to the trigger.\n",
    "    # But for simplification, the average will be calculated up to bas_tot sample \n",
    "    bas_y1 = np.mean(y1[evt_sta:evt_sta + bas_tot]) # Baseline value for channel 1\n",
    "    bas_y3 = np.mean(y3[evt_sta:evt_sta + bas_tot]) # Baseline value for channel 3    \n",
    "\n",
    "    # Threshold calculation \n",
    "    # For simplification the threshold will be estimed in 6 sigmas aprox.\n",
    "    thr_y1 = bas_y1 + 6 * np.std(y1[evt_sta:evt_sta + bas_tot]) # Threshold value for channel 1\n",
    "    thr_y3 = bas_y3 + 6 * np.std(y3[evt_sta:evt_sta + bas_tot]) # Threshold value for channel 3\n",
    "\n",
    "    # Trigger\n",
    "    trg_s1 = next(y for y in evt_rng if y1[y] > thr_y1) # Trigger sample for channel 1\n",
    "    trg_s3 = next(y for y in evt_rng if y3[y] > thr_y3) # Trigger sample for channel 3\n",
    "    trg_y1 = y1[trg_s1] # Trigger value for channel 1\n",
    "    trg_y3 = y3[trg_s3] # Trigger value for channel 3\n",
    "    trg_x1 = x0[trg_s1] # Trigger time for channel 1\n",
    "    trg_x3 = x0[trg_s3] # Trigger time for channel 3\n",
    "\n",
    "    # Energy calculation\n",
    "    ene_y1[evt_nb] = sum(y for y in y1[trg_s1:evt_end] if y > thr_y1) # Energy of event for channel 1\n",
    "    ene_y3[evt_nb] = sum(y for y in y3[trg_s3:evt_end] if y > thr_y3) # Energy of event for channel 3  \n",
    "\n",
    "    # Select ONLY ONE event to view threshold in leading edge of pulse    \n",
    "    smp_le_end = 2500 # Select the number of samples in leading edge for preview    \n",
    "    smp_le_sta = 2000 # Select the number of samples in leading edge for preview    \n",
    "    evt_sta = evt_nb * evt_smp + smp_le_sta# Event start\n",
    "    evt_end = evt_sta + smp_le_end - 1 # Event end\n",
    "    evt_rng = range(evt_sta, evt_end) # Event range\n",
    "        \n",
    "    plt_thr_y1 = np.ones(evt_end - evt_sta) * thr_y1\n",
    "    plt_thr_y3 = np.ones(evt_end - evt_sta) * thr_y3\n",
    "    plt.plot(x0[evt_rng], y1[evt_rng], label=\"Channel 1\") # Plot channel 1 \n",
    "    plt.plot(x0[evt_rng], y3[evt_rng], label=\"Channel 3\") # Plot channel 3\n",
    "    plt.plot(x0[evt_rng], plt_thr_y1, label=\"Threshold 1\") # Plot threshold 1\n",
    "    plt.plot(x0[evt_rng], plt_thr_y3, label=\"Threshold 3\") # Plot threshold 3    \n",
    "    plt.plot(trg_x1, trg_y1, 'o', label=\"Trigger 1\") # Plot trigger 1\n",
    "    plt.plot(trg_x3, trg_y3, 'o', label=\"Trigger 3\") # Plot trigger 3\n",
    "    plt.xlabel('Time (s)')\n",
    "    plt.ylabel('ADC counts')\n",
    "    plt.title('Pulse leading edge preview')\n",
    "    plt.legend()"
   ]
  }
 ],
 "metadata": {
  "interpreter": {
   "hash": "fe2aaa3bcfc1c59004450061f9a0f8ca985a9c2dd2e29f20c87d9488296ffd8c"
  },
  "kernelspec": {
   "display_name": "Python 3.9.0 64-bit",
   "language": "python",
   "name": "python3"
  },
  "language_info": {
   "name": "python",
   "version": "3.9.0"
  },
  "orig_nbformat": 4
 },
 "nbformat": 4,
 "nbformat_minor": 2
}
