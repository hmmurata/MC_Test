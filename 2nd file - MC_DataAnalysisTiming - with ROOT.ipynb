{
 "cells": [
  {
   "cell_type": "markdown",
   "metadata": {},
   "source": [
    "# Data analysis - Timing\n",
    "\n",
    "Results with ROOT and Scipy"
   ]
  },
  {
   "cell_type": "code",
   "execution_count": 1,
   "metadata": {},
   "outputs": [
    {
     "name": "stdout",
     "output_type": "stream",
     "text": [
      "Welcome to JupyROOT 6.26/06\n"
     ]
    }
   ],
   "source": [
    "# Import dependecies\n",
    "\n",
    "import numpy as np\n",
    "import pandas as pd\n",
    "import scipy as sp\n",
    "import ROOT as r\n",
    "import matplotlib.pyplot as plt\n",
    "plt.rcParams[\"font.family\"] = \"Serif\"\n",
    "%matplotlib inline"
   ]
  },
  {
   "cell_type": "markdown",
   "metadata": {},
   "source": [
    "# Process differences of time\n",
    "\n",
    "Timing pick-off based on LED, IRI and MRI."
   ]
  },
  {
   "cell_type": "code",
   "execution_count": 3,
   "metadata": {},
   "outputs": [
    {
     "name": "stdout",
     "output_type": "stream",
     "text": [
      "Registered events: 961\n",
      "Trigger errors: 0\n",
      "Out of coincidence window: 25\n",
      "LED errors: 24\n",
      "IRI errors: 1\n",
      "MRI errors: 14\n"
     ]
    }
   ],
   "source": [
    "from IPython.display import clear_output\n",
    "\n",
    "# Inputs:\n",
    "bas_tot = 1000 # Total number of samples for baseline calculation\n",
    "fl_total = 10 # Total number of files\n",
    "cw = 1000 # Coincidence window (in samples units)\n",
    "res = 10 # Time resolution (in ps) from sampling rate\n",
    "\n",
    "# Pulse processing for each event\n",
    "# For this test, channels 1 and 3 will be used because the pulses are unipolar\n",
    "evt_smp = 50000 # Number of samples in an event\n",
    "evt_acc = 0 # accumulated number of events\n",
    "\n",
    "evt_total_est = 100 # Total number of events estimative per file (only for specify the length of array)\n",
    "\n",
    "# Initialize timing arrays\n",
    "dif_LED = np.zeros(evt_total_est*fl_total) # diference of times of LED method for each event\n",
    "dif_IRI = np.zeros(evt_total_est*fl_total) # diference of times of IRI method for each event\n",
    "dif_MRI = np.zeros(evt_total_est*fl_total) # diference of times of IRI method for each event\n",
    "tLED_error = 0 # Total number of error in method apply\n",
    "tIRI_error = 0 # Total number of error in method apply\n",
    "tMRI_error = 0 # Total number of error in method apply\n",
    "trig_error = 0 # No trigger definition\n",
    "tout_error = 0 # Out of coincidence window \n",
    "\n",
    "# Process each csv file\n",
    "for chnk in range(fl_total):\n",
    "    fth_file = \"/mnt/e/Documentos/Projetos/python/metacrystal/data/\" + str(round(chnk * 0.1 + 0.1, 1)) + \"-\" + str(round(chnk * 0.1, 1)) + \"k.Wfm.csv\"    \n",
    "    df = pd.read_csv(fth_file, encoding ='utf-8', sep=' ') # Data frame from file\n",
    "    content = df.values # Data frame to Numpy array\n",
    "\n",
    "    # Each column in Numpy array from Pandas data frame     \n",
    "    #x0 = np.array(content[:,0]) # Horizontal scale -> T = 0.001E-08 (-5.000E-08 - -4.999E-08) \n",
    "    #y0 = np.array(content[:,1]) # Vertical - Signal 0\n",
    "    y1 = np.array(content[:,1]) # Vertical - Signal 1\n",
    "    #y2 = np.array(content[:,3]) # Vertical - Signal 2\n",
    "    y3 = np.array(content[:,3]) # Vertical - Signal 3\n",
    "\n",
    "    evt_tot = int(len(df.index)/evt_smp) # Total number of events    \n",
    "\n",
    "    clear_output(wait=False)\n",
    "    print(\"File name: {} - Processing {} events...\".format(fth_file, evt_tot))    \n",
    "    \n",
    "    # Process events\n",
    "    for evt_nb in range(evt_tot):                       \n",
    "        evt_sta = evt_nb * evt_smp # Event start\n",
    "        evt_end = evt_sta + evt_smp - 1 # Event end\n",
    "        evt_rng = range(evt_sta, evt_end) # Event range\n",
    "\n",
    "        # Baseline calculation - Average Moving Method\n",
    "        # In the Average Moving Method, the average is calculated from the beginning \n",
    "        # of the event to the sample referring to the trigger.\n",
    "        # But for simplification, the average will be calculated up to bas_tot sample \n",
    "        \n",
    "        bas_y1 = np.mean(y1[evt_sta:evt_sta + bas_tot]) # Baseline value for channel 1\n",
    "        bas_y3 = np.mean(y3[evt_sta:evt_sta + bas_tot]) # Baseline value for channel 3    \n",
    "        \n",
    "        # Threshold calculation \n",
    "        # For simplification the threshold will be estimed in 6 sigmas aprox.\n",
    "        thr_y1 = bas_y1 + 6 * np.std(y1[evt_sta:evt_sta + bas_tot]) # Threshold value for channel 1\n",
    "        thr_y3 = bas_y3 + 6 * np.std(y3[evt_sta:evt_sta + bas_tot]) # Threshold value for channel 3\n",
    "\n",
    "        # Trigger\n",
    "        try:\n",
    "            trg_s1 = next(y for y in evt_rng if y1[y] > thr_y1) # Trigger sample (x axis) for channel 1            \n",
    "        except StopIteration: # Pulse not identified by threshold\n",
    "            print(\"Error in event\",evt_acc)\n",
    "            print(\"Pulse not identified by threshold\")\n",
    "            trig_error += 1\n",
    "            continue\n",
    "        try:\n",
    "            trg_s3 = next(y for y in evt_rng if y3[y] > thr_y3) # Trigger sample (x axis) for channel 3\n",
    "        except StopIteration: # Pulse not identified by threshold\n",
    "            print(\"Error in event\",evt_acc)\n",
    "            print(\"Pulse not identified by threshold\")\n",
    "            trig_error += 1\n",
    "            continue         \n",
    "\n",
    "        ## Timing methods:\n",
    "        # 1- LED (Leading Edge Discrimination)\n",
    "        # 2- IRI (Initial Rise Interpolation) - https://doi.org/10.1109/NSSMIC.2009.5401926\n",
    "        # 3- MRI (Maximum Rise Interpolation) - https://doi.org/10.1016/S0168-9002(02)00401-1\n",
    "\n",
    "        # 1- LED\n",
    "        with np.errstate(divide='raise'):\n",
    "            try:\n",
    "                tLED_t1 = (trg_s1-1 + ((thr_y1 - y1[trg_s1-1]) / (y1[trg_s1] - y1[trg_s1-1]))) * res\n",
    "            except StopIteration: # Pulse not identified by threshold\n",
    "                print(\"Error for LED in event\",evt_acc)\n",
    "                print(\"Pulse not identified by threshold\")\n",
    "                trig_error += 1\n",
    "                continue\n",
    "            except FloatingPointError: # Divergent linear interpolation line\n",
    "                print(\"Error for LED in event \",evt_acc)\n",
    "                print(\"Divergent linear interpolation line\")\n",
    "                tLED_error += 1\n",
    "                continue\n",
    "        with np.errstate(divide='raise'):\n",
    "            try:\n",
    "                tLED_t3 = (trg_s3-1 + ((thr_y3 - y3[trg_s3-1]) / (y3[trg_s3] - y3[trg_s3-1]))) * res\n",
    "            except StopIteration: # Pulse not identified by threshold\n",
    "                print(\"Error for LED in event\",evt_acc)\n",
    "                print(\"Pulse not identified by threshold\")\n",
    "                trig_error += 1\n",
    "                continue\n",
    "            except FloatingPointError: # Divergent linear interpolation line\n",
    "                print(\"Error for LED in event \",evt_acc)\n",
    "                print(\"Divergent linear interpolation line\")\n",
    "                tLED_error += 1\n",
    "                continue      \n",
    "        \n",
    "        # 2- IRI\n",
    "        with np.errstate(divide='raise'):\n",
    "            try:\n",
    "                tIRI_t1 = (trg_s1-1 - ((y1[trg_s1-1] - bas_y1) / (y1[trg_s1] - y1[trg_s1-1]))) * res\n",
    "            except StopIteration: # Pulse not identified by threshold\n",
    "                print(\"Error for IRI in event\",evt_acc)\n",
    "                print(\"Pulse not identified by threshold\")\n",
    "                trig_error += 1\n",
    "                continue\n",
    "            except FloatingPointError: # Divergent linear interpolation line\n",
    "                print(\"Error for IRI in event \",evt_acc)\n",
    "                print(\"Divergent linear interpolation line\")\n",
    "                tIRI_error += 1\n",
    "                continue\n",
    "        with np.errstate(divide='raise'):\n",
    "            try:\n",
    "                tIRI_t3 = (trg_s3-1 - ((y3[trg_s3-1] - bas_y3) / (y3[trg_s3] - y3[trg_s3-1]))) * res\n",
    "            except StopIteration: # Pulse not identified by threshold\n",
    "                print(\"Error for IRI in event\",evt_acc)\n",
    "                print(\"Pulse not identified by threshold\")\n",
    "                trig_error += 1\n",
    "                continue\n",
    "            except FloatingPointError: # Divergent linear interpolation line\n",
    "                print(\"Error for IRI in event \",evt_acc)\n",
    "                print(\"Divergent linear interpolation line\")\n",
    "                tIRI_error += 1\n",
    "                continue\n",
    "\n",
    "        # 3- MRI\n",
    "        with np.errstate(divide='raise'):\n",
    "            try:\n",
    "                tMRI_t1 = (trg_s1 - ((y1[trg_s1] - bas_y1) / (y1[trg_s1+1] - y1[trg_s1]))) * res\n",
    "            except StopIteration: # Pulse not identified by threshold\n",
    "                print(\"Error for MRI in event\",evt_acc)\n",
    "                print(\"Pulse not identified by threshold\")\n",
    "                trig_error += 1\n",
    "                continue\n",
    "            except FloatingPointError: # Divergent linear interpolation line\n",
    "                print(\"Error for MRI in event \",evt_acc)\n",
    "                print(\"Divergent linear interpolation line\")\n",
    "                tMRI_error += 1\n",
    "                continue  \n",
    "        with np.errstate(divide='raise'):  \n",
    "            try:  \n",
    "                tMRI_t3 = (trg_s3 - ((y3[trg_s3] - bas_y3) / (y3[trg_s3+1] - y3[trg_s3]))) * res\n",
    "            except StopIteration: # Pulse not identified by threshold\n",
    "                print(\"Error for MRI in event\",evt_acc)\n",
    "                print(\"Pulse not identified by threshold\")\n",
    "                trig_error += 1\n",
    "                continue\n",
    "            except FloatingPointError: # Divergent linear interpolation line\n",
    "                print(\"Error for MRI in event \",evt_acc)\n",
    "                print(\"Divergent linear interpolation line\")\n",
    "                tMRI_error += 1\n",
    "                continue\n",
    "        \n",
    "        # Coincidence window\n",
    "        if abs(tLED_t1 - tLED_t3) > (cw * res):\n",
    "            tLED_error += 1\n",
    "            tout_error += 1\n",
    "            continue\n",
    "        if abs(tIRI_t1 - tIRI_t3) > (cw * res):\n",
    "            tIRI_error += 1\n",
    "            tout_error += 1\n",
    "            continue\n",
    "        if abs(tMRI_t1 - tMRI_t3 ) > (cw * res):\n",
    "            tMRI_error += 1\n",
    "            tout_error += 1\n",
    "            continue\n",
    "\n",
    "        dif_LED[evt_acc] = tLED_t3 - tLED_t1\n",
    "        dif_IRI[evt_acc] = tIRI_t3 - tIRI_t1 \n",
    "        dif_MRI[evt_acc] = tMRI_t3 - tMRI_t1 \n",
    "        \n",
    "        evt_acc += 1\n",
    "\n",
    "clear_output(wait=False)\n",
    "print(\"Registered events:\",evt_acc)\n",
    "print(\"Trigger errors:\",trig_error)\n",
    "print(\"Out of coincidence window:\",tout_error)\n",
    "print(\"LED errors:\",tLED_error)\n",
    "print(\"IRI errors:\",tIRI_error)\n",
    "print(\"MRI errors:\",tMRI_error)"
   ]
  },
  {
   "cell_type": "markdown",
   "metadata": {},
   "source": [
    "Choice bin size:"
   ]
  },
  {
   "cell_type": "code",
   "execution_count": 4,
   "metadata": {},
   "outputs": [
    {
     "name": "stdout",
     "output_type": "stream",
     "text": [
      "Basic: 2000\n",
      "Square-root choice: 31\n",
      "Sturges: 8\n",
      "Rice: 20\n",
      "Equiprobable: 31\n"
     ]
    }
   ],
   "source": [
    "# Input spectra values\n",
    "\n",
    "# Defining bin sizes: \t\n",
    "print('Basic:', int(np.round(2*(cw*res)/(res))))\n",
    "print('Square-root choice:',int(np.round(np.sqrt(evt_acc))))\n",
    "print('Sturges:', int(np.round(np.log(evt_acc)+1)))\n",
    "print('Rice:', int(np.round(2*np.cbrt(evt_acc))))\n",
    "print('Equiprobable:', int(np.round(2*evt_acc**(2/5))))\n",
    "\n",
    "nbins = int(np.round(2*(cw*res)/(res)))"
   ]
  },
  {
   "cell_type": "markdown",
   "metadata": {},
   "source": [
    "# CTR distribution in Matplotlib:"
   ]
  },
  {
   "cell_type": "code",
   "execution_count": 5,
   "metadata": {},
   "outputs": [
    {
     "data": {
      "image/png": "[encoded data removed]",
      "text/plain": [
       "<Figure size 800x600 with 1 Axes>"
      ]
     },
     "metadata": {
      "needs_background": "light"
     },
     "output_type": "display_data"
    }
   ],
   "source": [
    "# Load Histogram and Plot in Matplotlib\n",
    "\n",
    "px = 1/plt.rcParams['figure.dpi']\n",
    "plt.figure(figsize=(800*px, 600*px))\n",
    "plt.title('CTR Distribution - LYSO')\n",
    "plt.xlabel('$\\Delta t$(ps)')\n",
    "plt.ylabel('counts')\n",
    "LEDhist, LEDbin, LEDpat = plt.hist(dif_LED, bins=nbins, density=False, alpha=0.5, label='LED')\n",
    "LEDbin_centers = (LEDbin[1:]+LEDbin[:-1])/2.\n",
    "IRIhist, IRIbin, IRIpat = plt.hist(dif_IRI, bins=nbins, density=False, alpha=0.5, label='IRI')\n",
    "IRIbin_centers = (IRIbin[1:]+IRIbin[:-1])/2.\n",
    "MRIhist, MRIbin, MRIpat = plt.hist(dif_MRI, bins=nbins, density=False, alpha=0.5, label='MRI')\n",
    "MRIbin_centers = (MRIbin[1:]+MRIbin[:-1])/2.\n",
    "plt.legend()\n",
    "plt.show()"
   ]
  },
  {
   "cell_type": "markdown",
   "metadata": {},
   "source": [
    "# CTR Distribution in ROOT:"
   ]
  },
  {
   "cell_type": "code",
   "execution_count": 6,
   "metadata": {},
   "outputs": [
    {
     "data": {
      "image/png": "[encoded data removed]",
      "text/plain": [
       "<IPython.core.display.Image object>"
      ]
     },
     "metadata": {},
     "output_type": "display_data"
    }
   ],
   "source": [
    "# Load Histogram and Plot in Pyroot\n",
    "LEDbins = len(LEDbin_centers)\n",
    "IRIbins = len(IRIbin_centers)\n",
    "MRIbins = len(MRIbin_centers)\n",
    "\n",
    "plt.ion()\n",
    "stack = r.THStack(\"CTR\",\"CTR distribution - LYSO;$[\\Delta t]$(ps);counts\")\n",
    "r.gStyle.SetOptFit(111)\n",
    "r.TH1.AddDirectory(False); # Remove warning: Potential memory leak\n",
    "\n",
    "hLED = r.TH1D('hLED','LED histogram', LEDbins-1, LEDbin_centers)\n",
    "for LEDevt in dif_LED:\n",
    "    hLED.Fill(LEDevt)\n",
    "hLED.SetFillColorAlpha(r.kBlue, 0.35)\n",
    "hLED.SetLineColorAlpha(r.kBlue, 0.35)\n",
    "stack.Add(hLED)\n",
    "\n",
    "hIRI = r.TH1D('hIRI','IRI histogram', IRIbins-1, IRIbin_centers)\n",
    "for IRIevt in dif_IRI:\n",
    "    hIRI.Fill(IRIevt)\n",
    "hIRI.SetFillColorAlpha(r.kOrange+7, 0.5)\n",
    "hIRI.SetLineColorAlpha(r.kOrange+7, 0.5)\n",
    "stack.Add(hIRI)\n",
    "\n",
    "hMRI = r.TH1D('hMRI','MRI histogram', MRIbins-1, MRIbin_centers)\n",
    "for MRIevt in dif_MRI:\n",
    "    hMRI.Fill(MRIevt)\n",
    "hMRI.SetFillColorAlpha(r.kGreen, 0.5)\n",
    "hMRI.SetLineColorAlpha(r.kGreen, 0.5)\n",
    "stack.Add(hMRI)\n",
    "\n",
    "legend = r.TLegend (0.7 ,0.6 ,0.85 ,0.75)\n",
    "legend.AddEntry(hLED ,\"LED\",\"L\")\n",
    "legend.AddEntry(hIRI ,\"IRI\",\"L\")\n",
    "legend.AddEntry(hMRI ,\"MRI\",\"L\")\n",
    "legend.SetLineWidth(1)\n",
    "\n",
    "c1 = r.TCanvas()\n",
    "stack.Draw(\"nostack\")\n",
    "legend.Draw (\"same\")\n",
    "c1.Draw()"
   ]
  },
  {
   "cell_type": "markdown",
   "metadata": {},
   "source": [
    "# Coefficients and covariances in Scipy:"
   ]
  },
  {
   "cell_type": "code",
   "execution_count": 7,
   "metadata": {},
   "outputs": [],
   "source": [
    "from scipy.optimize import curve_fit\n",
    "\n",
    "LEDnz = LEDhist>0\n",
    "IRInz = IRIhist>0\n",
    "MRInz = MRIhist>0\n",
    "\n",
    "\n",
    "# Gaussian Fit Function\n",
    "def gaus(x, const, mu, sigma):\n",
    "    return const* np.exp(-0.5*((x - mu)/sigma)**2)\n",
    "\n",
    "p_initial = [150, 200, 30]  # For initial guess\n",
    "\n",
    "# Define Range and Fit\n",
    "LEDcoeff, LEDcovar = curve_fit(gaus, LEDbin_centers[LEDnz], LEDhist[LEDnz], p0=p_initial)\n",
    "IRIcoeff, IRIcovar = curve_fit(gaus, IRIbin_centers[IRInz], IRIhist[IRInz], p0=p_initial)\n",
    "MRIcoeff, MRIcovar = curve_fit(gaus, MRIbin_centers[MRInz], MRIhist[MRInz], p0=p_initial)"
   ]
  },
  {
   "cell_type": "markdown",
   "metadata": {},
   "source": [
    "# Coefficients and covariances in ROOT:"
   ]
  },
  {
   "cell_type": "code",
   "execution_count": 8,
   "metadata": {},
   "outputs": [
    {
     "name": "stdout",
     "output_type": "stream",
     "text": [
      " FCN=173.203 FROM MIGRAD    STATUS=CONVERGED     107 CALLS         108 TOTAL\n",
      "                     EDM=6.70018e-12    STRATEGY= 1      ERROR MATRIX ACCURATE \n",
      "  EXT PARAMETER                                   STEP         FIRST   \n",
      "  NO.   NAME      VALUE            ERROR          SIZE      DERIVATIVE \n",
      "   1  Constant     1.98603e+01   9.45880e-01   4.45652e-03   2.46928e-06\n",
      "   2  Mean         4.41849e+01   5.27920e+00   3.38336e-02   1.29776e-07\n",
      "   3  Sigma        1.47232e+02   5.01448e+00   2.37442e-05  -2.96765e-04\n",
      " FCN=224.151 FROM MIGRAD    STATUS=CONVERGED     472 CALLS         473 TOTAL\n",
      "                     EDM=1.71913e-07    STRATEGY= 1      ERROR MATRIX ACCURATE \n",
      "  EXT PARAMETER                                   STEP         FIRST   \n",
      "  NO.   NAME      VALUE            ERROR          SIZE      DERIVATIVE \n",
      "   1  Constant     1.84233e+01   9.21213e-01   4.85283e-03  -2.29657e-04\n",
      "   2  Mean         4.64487e+01   5.48055e+00   3.98018e-02   7.54925e-05\n",
      "   3  Sigma        1.48863e+02   5.34653e+00   1.45921e-04  -5.72390e-02\n",
      " FCN=303.99 FROM MIGRAD    STATUS=CONVERGED     514 CALLS         515 TOTAL\n",
      "                     EDM=2.30627e-12    STRATEGY= 1      ERROR MATRIX ACCURATE \n",
      "  EXT PARAMETER                                   STEP         FIRST   \n",
      "  NO.   NAME      VALUE            ERROR          SIZE      DERIVATIVE \n",
      "   1  Constant     1.38982e+01   8.02319e-01   4.49872e-03  -4.40504e-07\n",
      "   2  Mean         5.13555e+01   7.54118e+00   6.14659e-02  -4.10378e-08\n",
      "   3  Sigma        1.82217e+02   8.60930e+00   3.15639e-05  -4.30145e-04\n"
     ]
    }
   ],
   "source": [
    "hLED.Fit('gaus')\n",
    "hIRI.Fit('gaus')\n",
    "hMRI.Fit('gaus')\n",
    "\n",
    "# Get Root Fit and Goodness of Fit Parameters\n",
    "fLED = hLED.GetFunction('gaus')\n",
    "fIRI = hIRI.GetFunction('gaus')\n",
    "fMRI = hMRI.GetFunction('gaus')\n",
    "LEDconst,LEDmu,LEDsigma = fLED.GetParameter(0), fLED.GetParameter(1), fLED.GetParameter(2)\n",
    "LEDeconst,LEDemu,LEDesigma = fLED.GetParError(0), fLED.GetParError(1), fLED.GetParError(2)\n",
    "LEDndf,LEDchi2,LEDprob = fLED.GetNDF(),fLED.GetChisquare(),fLED.GetProb()\n",
    "LEDfwhm = 2.355*fLED.GetParameter(2)\n",
    "LEDefwhm = 2.355*fLED.GetParError(2)\n",
    "\n",
    "IRIconst,IRImu,IRIsigma = fIRI.GetParameter(0), fIRI.GetParameter(1), fIRI.GetParameter(2)\n",
    "IRIeconst,IRIemu,IRIesigma = fIRI.GetParError(0), fIRI.GetParError(1), fIRI.GetParError(2)\n",
    "IRIndf,IRIchi2,IRIprob = fIRI.GetNDF(),fIRI.GetChisquare(),fIRI.GetProb()\n",
    "IRIfwhm = 2.355*fIRI.GetParameter(2)\n",
    "IRIefwhm = 2.355*fIRI.GetParError(2)\n",
    "\n",
    "MRIconst,MRImu,MRIsigma = fMRI.GetParameter(0), fMRI.GetParameter(1), fMRI.GetParameter(2)\n",
    "MRIeconst,MRIemu,MRIesigma = fMRI.GetParError(0), fMRI.GetParError(1), fMRI.GetParError(2)\n",
    "MRIndf,MRIchi2,MRIprob = fMRI.GetNDF(),fMRI.GetChisquare(),fMRI.GetProb()\n",
    "MRIfwhm = 2.355*fMRI.GetParameter(2)\n",
    "MRIefwhm = 2.355*fMRI.GetParError(2)"
   ]
  },
  {
   "cell_type": "markdown",
   "metadata": {},
   "source": [
    "Chi sq, Chi2/n, Prob and FWHM calculation:"
   ]
  },
  {
   "cell_type": "code",
   "execution_count": 9,
   "metadata": {},
   "outputs": [
    {
     "name": "stdout",
     "output_type": "stream",
     "text": [
      "LED:\n",
      "---\n",
      "Hist\tLibrary\tChi Sq\tChi2/dof\tprob\tFWHM\n",
      "Root\tRoot\t173.20\t1.18\t\t0.0767\t346.7 +/- 11.8 ps\n",
      "Root\tPython\t221.87\t1.51\t\t0.0001\t346.7 +/- 11.8 ps\n",
      "Scipy\tPython\t242.42\t1.65\t\t0.0000\t329.7 +/- 17.1 ps\n",
      "---\n",
      "Degrees of Freedom =\t147\n"
     ]
    }
   ],
   "source": [
    "# Define Fit Curves \n",
    "LEDx = LEDbin_centers\n",
    "LEDroot_gaus = (LEDconst,LEDmu,LEDsigma)\n",
    "LEDopti_gaus = LEDcoeff\n",
    "\n",
    "# Calculate chi Squared\n",
    "fLED_root = gaus(LEDx,*LEDroot_gaus)\n",
    "fLED_opti = gaus(LEDx,*LEDopti_gaus)\n",
    "LEDch2_root = np.sum((LEDhist[LEDnz]-fLED_root[LEDnz])**2/LEDhist[LEDnz])\n",
    "LEDch2_opti = np.sum((LEDhist[LEDnz]-fLED_opti[LEDnz])**2/LEDhist[LEDnz])\n",
    "\n",
    "# Calculate Degrees of Freedom with 3 fit parameters\n",
    "LEDdof = len(LEDx[LEDnz])-3\n",
    "\n",
    "# Calculate Probability\n",
    "pLED_root = sp.stats.chi2.sf(LEDch2_root, LEDdof)\n",
    "pLED_opti = sp.stats.chi2.sf(LEDch2_opti, LEDdof)\n",
    "\n",
    "# Errors\n",
    "LEDperrs = np.sqrt(np.diag(LEDcovar))\n",
    "\n",
    "# Calculate FWHM\n",
    "LEDfwhm_root = 2*np.sqrt(2*np.log(2))*LEDsigma\n",
    "LEDefwhm_root = 2*np.sqrt(2*np.log(2))*LEDesigma\n",
    "LEDfwhm_opti = 2*np.sqrt(2*np.log(2))*np.abs(LEDcoeff[2])\n",
    "LEDefwhm_opti = 2*np.sqrt(2*np.log(2))*np.abs(LEDperrs[2])\n",
    "\n",
    "print('LED:')\n",
    "print('---')\n",
    "print('Hist\\tLibrary\\tChi Sq\\tChi2/dof\\tprob\\tFWHM')\n",
    "print('Root\\tRoot\\t{0:.2f}\\t{1:.2f}\\t\\t{2:.4f}\\t{3:.1f} +/- {4:.1f} ps'.format(LEDchi2, LEDchi2/LEDdof, LEDprob, LEDfwhm, LEDefwhm))\n",
    "print('Root\\tPython\\t{0:.2f}\\t{1:.2f}\\t\\t{2:.4f}\\t{3:.1f} +/- {4:.1f} ps'.format(LEDch2_root, LEDch2_root/LEDdof, pLED_root, LEDfwhm_root, LEDefwhm_root))\n",
    "print('Scipy\\tPython\\t{0:.2f}\\t{1:.2f}\\t\\t{2:.4f}\\t{3:.1f} +/- {4:.1f} ps'.format(LEDch2_opti, LEDch2_opti/LEDdof, pLED_opti, LEDfwhm_opti, LEDefwhm_opti))\n",
    "print('---')\n",
    "print('Degrees of Freedom =\\t{0}'.format(str(LEDdof)))"
   ]
  },
  {
   "cell_type": "code",
   "execution_count": 10,
   "metadata": {},
   "outputs": [
    {
     "name": "stdout",
     "output_type": "stream",
     "text": [
      "IRI:\n",
      "---\n",
      "Hist\tLibrary\tChi Sq\tChi2/dof\tprob\tFWHM\n",
      "Root\tRoot\t224.15\t1.38\t\t0.001\t350.6 +/- 12.6 ps\n",
      "Root\tPython\t202.16\t1.24\t\t0.020\t350.5 +/- 12.6 ps\n",
      "Scipy\tPython\t213.93\t1.31\t\t0.005\t344.2 +/- 18.0 ps\n",
      "---\n",
      "Degrees of Freedom =\t163\n"
     ]
    }
   ],
   "source": [
    "# Define Fit Curves \n",
    "IRIx = IRIbin_centers\n",
    "IRIroot_gaus = (IRIconst,IRImu,IRIsigma)\n",
    "IRIopti_gaus = IRIcoeff\n",
    "\n",
    "# Calculate chi Squared\n",
    "fIRI_root = gaus(IRIx,*IRIroot_gaus)\n",
    "fIRI_opti = gaus(IRIx,*IRIopti_gaus)\n",
    "IRIch2_root = np.sum((IRIhist[IRInz]-fIRI_root[IRInz])**2/IRIhist[IRInz])\n",
    "IRIch2_opti = np.sum((IRIhist[IRInz]-fIRI_opti[IRInz])**2/IRIhist[IRInz])\n",
    "\n",
    "# Calculate Degrees of Freedom with 3 fit parameters\n",
    "IRIdof = len(IRIx[IRInz])-3\n",
    "\n",
    "# Calculate Probability\n",
    "pIRI_root = sp.stats.chi2.sf(IRIch2_root, IRIdof)\n",
    "pIRI_opti = sp.stats.chi2.sf(IRIch2_opti, IRIdof)\n",
    "\n",
    "# Errors\n",
    "IRIperrs = np.sqrt(np.diag(IRIcovar))\n",
    "\n",
    "# Calculate FWHM\n",
    "IRIfwhm_root = 2*np.sqrt(2*np.log(2))*IRIsigma\n",
    "IRIefwhm_root = 2*np.sqrt(2*np.log(2))*IRIesigma\n",
    "IRIfwhm_opti = 2*np.sqrt(2*np.log(2))*np.abs(IRIcoeff[2])\n",
    "IRIefwhm_opti = 2*np.sqrt(2*np.log(2))*np.abs(IRIperrs[2])\n",
    "\n",
    "print('IRI:')\n",
    "print('---')\n",
    "print('Hist\\tLibrary\\tChi Sq\\tChi2/dof\\tprob\\tFWHM')\n",
    "print('Root\\tRoot\\t{0:.2f}\\t{1:.2f}\\t\\t{2:.3f}\\t{3:.1f} +/- {4:.1f} ps'.format(IRIchi2, IRIchi2/IRIdof, IRIprob, IRIfwhm, IRIefwhm))\n",
    "print('Root\\tPython\\t{0:.2f}\\t{1:.2f}\\t\\t{2:.3f}\\t{3:.1f} +/- {4:.1f} ps'.format(IRIch2_root, IRIch2_root/IRIdof, pIRI_root, IRIfwhm_root, IRIefwhm_root))\n",
    "print('Scipy\\tPython\\t{0:.2f}\\t{1:.2f}\\t\\t{2:.3f}\\t{3:.1f} +/- {4:.1f} ps'.format(IRIch2_opti, IRIch2_opti/IRIdof, pIRI_opti, IRIfwhm_opti, IRIefwhm_opti))\n",
    "print('---')\n",
    "print('Degrees of Freedom =\\t{0}'.format(str(IRIdof)))"
   ]
  },
  {
   "cell_type": "code",
   "execution_count": 11,
   "metadata": {},
   "outputs": [
    {
     "name": "stdout",
     "output_type": "stream",
     "text": [
      "MRI:\n",
      "---\n",
      "Hist\tLibrary\tChi Sq\tChi2/dof\tprob\tFWHM\n",
      "Root\tRoot\t303.99\t1.22\t\t0.0061\t429.1 +/- 20.3 ps\n",
      "Root\tPython\t305.77\t1.23\t\t0.0081\t429.1 +/- 20.3 ps\n",
      "Scipy\tPython\t331.68\t1.33\t\t0.0004\t379.5 +/- 17.8 ps\n",
      "---\n",
      "Degrees of Freedom =\t249\n"
     ]
    }
   ],
   "source": [
    "# Define Fit Curves \n",
    "MRIx = MRIbin_centers\n",
    "MRIroot_gaus = (MRIconst,MRImu,MRIsigma)\n",
    "MRIopti_gaus = MRIcoeff\n",
    "\n",
    "# Calculate chi Squared\n",
    "fMRI_root = gaus(MRIx,*MRIroot_gaus)\n",
    "fMRI_opti = gaus(MRIx,*MRIopti_gaus)\n",
    "MRIch2_root = np.sum((MRIhist[MRInz]-fMRI_root[MRInz])**2/MRIhist[MRInz])\n",
    "MRIch2_opti = np.sum((MRIhist[MRInz]-fMRI_opti[MRInz])**2/MRIhist[MRInz])\n",
    "\n",
    "# Calculate Degrees of Freedom with 3 fit parameters\n",
    "MRIdof = len(MRIx[MRInz])-3\n",
    "\n",
    "# Calculate Probability\n",
    "pMRI_root = sp.stats.chi2.sf(MRIch2_root, MRIdof)\n",
    "pMRI_opti = sp.stats.chi2.sf(MRIch2_opti, MRIdof)\n",
    "\n",
    "# Errors\n",
    "MRIperrs = np.sqrt(np.diag(MRIcovar))\n",
    "\n",
    "# Calculate FWHM\n",
    "MRIfwhm_root = 2*np.sqrt(2*np.log(2))*MRIsigma\n",
    "MRIefwhm_root = 2*np.sqrt(2*np.log(2))*MRIesigma\n",
    "MRIfwhm_opti = 2*np.sqrt(2*np.log(2))*np.abs(MRIcoeff[2])\n",
    "MRIefwhm_opti = 2*np.sqrt(2*np.log(2))*np.abs(MRIperrs[2])\n",
    "\n",
    "print('MRI:')\n",
    "print('---')\n",
    "print('Hist\\tLibrary\\tChi Sq\\tChi2/dof\\tprob\\tFWHM')\n",
    "print('Root\\tRoot\\t{0:.2f}\\t{1:.2f}\\t\\t{2:.4f}\\t{3:.1f} +/- {4:.1f} ps'.format(MRIchi2, MRIchi2/MRIdof, MRIprob, MRIfwhm, MRIefwhm))\n",
    "print('Root\\tPython\\t{0:.2f}\\t{1:.2f}\\t\\t{2:.4f}\\t{3:.1f} +/- {4:.1f} ps'.format(MRIch2_root, MRIch2_root/MRIdof, pMRI_root, MRIfwhm_root, MRIefwhm_root))\n",
    "print('Scipy\\tPython\\t{0:.2f}\\t{1:.2f}\\t\\t{2:.4f}\\t{3:.1f} +/- {4:.1f} ps'.format(MRIch2_opti, MRIch2_opti/MRIdof, pMRI_opti, MRIfwhm_opti, MRIefwhm_opti))\n",
    "print('---')\n",
    "print('Degrees of Freedom =\\t{0}'.format(str(MRIdof)))"
   ]
  },
  {
   "cell_type": "markdown",
   "metadata": {},
   "source": [
    "# Plot CTR distribution with gaussian fit:"
   ]
  },
  {
   "cell_type": "code",
   "execution_count": 12,
   "metadata": {},
   "outputs": [
    {
     "data": {
      "image/png": "[encoded data removed]",
      "text/plain": [
       "<Figure size 864x486 with 1 Axes>"
      ]
     },
     "metadata": {
      "needs_background": "light"
     },
     "output_type": "display_data"
    }
   ],
   "source": [
    "fig, ax = plt.subplots(figsize=(12,6.75))\n",
    "\n",
    "plt.stairs(LEDhist, LEDbin, color='blue')\n",
    "plt.plot(LEDx, fLED_root, 'k--', linewidth=2, label='ROOT')\n",
    "plt.plot(LEDx, fLED_opti, 'r--', linewidth=2, label='Scipy')\n",
    "plt.xlim(-1000, 1000)\n",
    "# plt.savefig('python_fit.png', dpi=300)\n",
    "plt.title('CTR distribution - LYSO - LED')\n",
    "plt.xlabel('$\\Delta t$(ps)')\n",
    "plt.ylabel('counts')\n",
    "plt.legend()\n",
    "plt.show()"
   ]
  },
  {
   "cell_type": "code",
   "execution_count": 13,
   "metadata": {},
   "outputs": [
    {
     "data": {
      "image/png": "[encoded data removed]",
      "text/plain": [
       "<Figure size 864x486 with 1 Axes>"
      ]
     },
     "metadata": {
      "needs_background": "light"
     },
     "output_type": "display_data"
    }
   ],
   "source": [
    "fig, ax = plt.subplots(figsize=(12,6.75))\n",
    "\n",
    "plt.stairs(IRIhist, IRIbin, color='blue')\n",
    "plt.plot(IRIx, fIRI_root, 'k--', linewidth=2, label='ROOT')\n",
    "plt.plot(IRIx, fIRI_opti, 'r--', linewidth=2, label='Scipy')\n",
    "plt.xlim(-1000, 1000)\n",
    "# plt.savefig('python_fit.png', dpi=300)\n",
    "plt.title('CTR distribution - LYSO - IRI')\n",
    "plt.xlabel('$\\Delta t$(ps)')\n",
    "plt.ylabel('counts')\n",
    "plt.legend()\n",
    "plt.show()"
   ]
  },
  {
   "cell_type": "code",
   "execution_count": 14,
   "metadata": {},
   "outputs": [
    {
     "data": {
      "image/png": "[encoded data removed]",
      "text/plain": [
       "<Figure size 864x486 with 1 Axes>"
      ]
     },
     "metadata": {
      "needs_background": "light"
     },
     "output_type": "display_data"
    }
   ],
   "source": [
    "fig, ax = plt.subplots(figsize=(12,6.75))\n",
    "\n",
    "plt.stairs(MRIhist, MRIbin, color='blue')\n",
    "plt.plot(MRIx, fMRI_root, 'k--', linewidth=2, label='ROOT')\n",
    "plt.plot(MRIx, fMRI_opti, 'r--', linewidth=2, label='Scipy')\n",
    "plt.xlim(-1000, 1000)\n",
    "# plt.savefig('python_fit.png', dpi=300)\n",
    "plt.title('CTR distribution - LYSO - MRI')\n",
    "plt.xlabel('$\\Delta t$(ps)')\n",
    "plt.ylabel('counts')\n",
    "plt.legend()\n",
    "plt.show()"
   ]
  },
  {
   "cell_type": "code",
   "execution_count": null,
   "metadata": {},
   "outputs": [],
   "source": []
  }
 ],
 "metadata": {
  "kernelspec": {
   "display_name": "Python 3.10.6 64-bit",
   "language": "python",
   "name": "python3"
  },
  "language_info": {
   "codemirror_mode": {
    "name": "ipython",
    "version": 3
   },
   "file_extension": ".py",
   "mimetype": "text/x-python",
   "name": "python",
   "nbconvert_exporter": "python",
   "pygments_lexer": "ipython3",
   "version": "3.10.6"
  },
  "orig_nbformat": 4,
  "vscode": {
   "interpreter": {
    "hash": "e7370f93d1d0cde622a1f8e1c04877d8463912d04d973331ad4851f04de6915a"
   }
  }
 },
 "nbformat": 4,
 "nbformat_minor": 2
}
