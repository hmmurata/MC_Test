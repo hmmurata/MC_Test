{
 "cells": [
  {
   "cell_type": "markdown",
   "metadata": {},
   "source": [
    "# Split large csv files into shorter files"
   ]
  },
  {
   "cell_type": "code",
   "execution_count": 1,
   "metadata": {},
   "outputs": [],
   "source": [
    "## Import dependencies\n",
    "import numpy as np\n",
    "import pandas as pd"
   ]
  },
  {
   "cell_type": "code",
   "execution_count": 2,
   "metadata": {},
   "outputs": [
    {
     "name": "stdout",
     "output_type": "stream",
     "text": [
      " *** Memory used percentage - 48.2 \n",
      " **** Free Memory available - 12 GB\n"
     ]
    }
   ],
   "source": [
    "## Check system memory for Python\n",
    "try:\n",
    "  import psutil\n",
    "except:\n",
    "  %pip install psutil\n",
    "  import psutil\n",
    "\n",
    "memory = psutil.virtual_memory()\n",
    "print(f\" {'*' * 3} Memory used percentage - {memory.percent} \\n {'*' * 4} Free Memory available - { round(memory.free / (1024.0 ** 3))} GB\")\n"
   ]
  },
  {
   "cell_type": "code",
   "execution_count": 6,
   "metadata": {},
   "outputs": [],
   "source": [
    "# But it's interesting to change to Dask for large files and memory consumption.\n",
    "# Sanitize data in long files - one possible solution: chunk files\n",
    "# There are some events with error\n",
    "# Each event has 100000 samples. Each sample is in a row\n",
    "file = \"../data/1.Wfm.csv\"\n",
    "i = 0\n",
    "# Error in row 174827928: there is an additional column in this sample.\n",
    "# Solution: read file until 174800000 and continue after 174900000. It lost the event with error\n",
    "# But if chunksize is 10000000,  \n",
    "# df =  pd.read_csv(file, encoding = 'utf-8', sep=' ',skiprows = 174827928, nrows=5)\n",
    "#with pd.read_csv(file, encoding='utf-8', sep=' ', skiprows=174827929, chunksize=10000000, iterator=True, low_memory=False, memory_map=True) as reader:\n",
    "with pd.read_csv(file, encoding='utf-8', sep=' ', chunksize=10000000, nrows=170000000, low_memory=False, memory_map=True, index_col=False\\\n",
    "    , header=None) as reader:\n",
    "    for chunk in reader:\n",
    "        fth_file = \"../results/test_\" + str(i) + \".csv\"\n",
    "        df = pd.DataFrame(chunk)\n",
    "        df.to_csv(fth_file, index=False)        \n",
    "        i = i + 1"
   ]
  },
  {
   "cell_type": "code",
   "execution_count": 7,
   "metadata": {},
   "outputs": [],
   "source": [
    "# But it's interesting to change to Dask for large files and memory consumption.\n",
    "# Sanitize data in long files - one possible solution: chunk files\n",
    "# There are some events with error\n",
    "# Each event has 100000 samples. Each sample is in a row\n",
    "file = \"../data/1.Wfm.csv\"\n",
    "i = 17\n",
    "# Error in row 174827928: there is an additional column in this sample.\n",
    "# Solution: read file until 174800000 and continue after 174900000. It lost the event with error\n",
    "# But if chunksize is 10000000,  \n",
    "# df =  pd.read_csv(file, encoding = 'utf-8', sep=' ',skiprows = 174827928, nrows=5)\n",
    "#with pd.read_csv(file, encoding='utf-8', sep=' ', skiprows=174827929, chunksize=10000000, iterator=True, low_memory=False, memory_map=True) as reader:\n",
    "with pd.read_csv(file, encoding='utf-8', sep=' ', skiprows=180000000, chunksize=10000000, low_memory=False, memory_map=True, index_col=False\\\n",
    "    , header=None) as reader:\n",
    "    for chunk in reader:\n",
    "        fth_file = \"../results/test_\" + str(i) + \".csv\"\n",
    "        df = pd.DataFrame(chunk)\n",
    "        df.to_csv(fth_file, index=False)        \n",
    "        i = i + 1"
   ]
  },
  {
   "cell_type": "markdown",
   "metadata": {},
   "source": [
    "Sample between 170000000 and 180000000 (chunk size = 10000000) are lost\n",
    "Each event = 100000 samples\n",
    "Total events lost: 100"
   ]
  },
  {
   "cell_type": "markdown",
   "metadata": {},
   "source": [
    "Codes below is only for test"
   ]
  },
  {
   "cell_type": "code",
   "execution_count": null,
   "metadata": {},
   "outputs": [],
   "source": [
    "## Test with 10 rows\n",
    "df = pd.read_csv(file, encoding='utf-8', sep=' ', nrows=10, low_memory=False, memory_map=True, index_col=False, header=None)\n",
    "df.to_csv(\"test1_0.csv\", index=False) \n",
    "dffr = pd.read_csv(\"test1_0.csv\")\n",
    "print(dffr)"
   ]
  },
  {
   "cell_type": "code",
   "execution_count": null,
   "metadata": {},
   "outputs": [],
   "source": [
    "## Test with parquet\n",
    "i = 0\n",
    "with pd.read_csv(file, encoding='utf-8', sep=' ', chunksize=2, nrows=10, low_memory=False, memory_map=True, index_col=False\\\n",
    "    , header=None, names=[\"time\", \"ch0\", \"ch1\", \"ch2\", \"ch3\"]) as reader:\n",
    "    for chunk in reader:\n",
    "        fth_file = \"test_\" + str(i) + \".parquet\"\n",
    "        df = pd.DataFrame(chunk).reset_index()\n",
    "        df.to_parquet(fth_file, index=None)        \n",
    "        i = i + 1\n",
    "\n",
    "for y in range(i):\n",
    "    fth_file = \"test_\" + str(y) + \".parquet\"\n",
    "    dff = pd.read_parquet(fth_file, columns=[\"time\", \"ch0\", \"ch1\", \"ch2\", \"ch3\"])\n",
    "    print(dff)"
   ]
  },
  {
   "cell_type": "code",
   "execution_count": null,
   "metadata": {},
   "outputs": [],
   "source": [
    "## Test with csv\n",
    "i = 0\n",
    "with pd.read_csv(file, encoding='utf-8', sep=' ', chunksize=2, nrows=10, low_memory=False, memory_map=True, index_col=False\\\n",
    "    , header=None) as reader:\n",
    "    for chunk in reader:\n",
    "        fth_file = \"test_\" + str(i) + \".csv\"\n",
    "        df = pd.DataFrame(chunk)\n",
    "        df.to_csv(fth_file, index=False)        \n",
    "        i = i + 1\n",
    "\n",
    "for y in range(i):\n",
    "    fth_file = \"test_\" + str(y) + \".csv\"\n",
    "    dff = pd.read_csv(fth_file)\n",
    "    print(dff)"
   ]
  }
 ],
 "metadata": {
  "interpreter": {
   "hash": "fe2aaa3bcfc1c59004450061f9a0f8ca985a9c2dd2e29f20c87d9488296ffd8c"
  },
  "kernelspec": {
   "display_name": "Python 3.9.0 64-bit",
   "language": "python",
   "name": "python3"
  },
  "language_info": {
   "codemirror_mode": {
    "name": "ipython",
    "version": 3
   },
   "file_extension": ".py",
   "mimetype": "text/x-python",
   "name": "python",
   "nbconvert_exporter": "python",
   "pygments_lexer": "ipython3",
   "version": "3.9.0"
  },
  "orig_nbformat": 4
 },
 "nbformat": 4,
 "nbformat_minor": 2
}
